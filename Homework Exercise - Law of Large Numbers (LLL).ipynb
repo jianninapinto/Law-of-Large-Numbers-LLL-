{
 "cells": [
  {
   "cell_type": "code",
   "execution_count": 1,
   "metadata": {},
   "outputs": [],
   "source": [
    "#Test the Law of Large Numbers for N random normally distributed numbers with mean = 0, stdev = 1:\n",
    "\n",
    "#Create a Python script that will count how many of these numbers will fall between -1 and 1  \n",
    "#and divide by the total quantity of N\n",
    "\n",
    "#You know that E(X) = 68.2%\n",
    "\n",
    "#Check that Mean(Xn) -> E(X) as you rerun your script by increasing N\n"
   ]
  },
  {
   "cell_type": "code",
   "execution_count": 2,
   "metadata": {},
   "outputs": [],
   "source": [
    "import numpy as np\n",
    "from numpy.random import randn"
   ]
  },
  {
   "cell_type": "code",
   "execution_count": 71,
   "metadata": {},
   "outputs": [
    {
     "name": "stdout",
     "output_type": "stream",
     "text": [
      "0.68\n"
     ]
    }
   ],
   "source": [
    "N = 100\n",
    "counter = 0\n",
    "for X in randn (N):\n",
    "    if (X > -1 and X < 1):\n",
    "        counter = counter + 1\n",
    "answer = counter / N\n",
    "print (answer)"
   ]
  },
  {
   "cell_type": "code",
   "execution_count": 43,
   "metadata": {},
   "outputs": [
    {
     "name": "stdout",
     "output_type": "stream",
     "text": [
      "0.703\n"
     ]
    }
   ],
   "source": [
    "N = 1000\n",
    "counter = 0\n",
    "for X in randn (N):\n",
    "    if (X > -1 and X < 1):\n",
    "        counter = counter + 1\n",
    "answer = counter / N\n",
    "print (answer)"
   ]
  },
  {
   "cell_type": "code",
   "execution_count": 56,
   "metadata": {},
   "outputs": [
    {
     "name": "stdout",
     "output_type": "stream",
     "text": [
      "0.6833\n"
     ]
    }
   ],
   "source": [
    "N = 10000\n",
    "counter = 0\n",
    "for X in randn (N):\n",
    "    if (X > -1 and X < 1):\n",
    "        counter = counter + 1\n",
    "answer = counter / N\n",
    "print (answer)"
   ]
  },
  {
   "cell_type": "code",
   "execution_count": null,
   "metadata": {},
   "outputs": [],
   "source": []
  },
  {
   "cell_type": "code",
   "execution_count": null,
   "metadata": {},
   "outputs": [],
   "source": []
  }
 ],
 "metadata": {
  "kernelspec": {
   "display_name": "Python 3",
   "language": "python",
   "name": "python3"
  },
  "language_info": {
   "codemirror_mode": {
    "name": "ipython",
    "version": 3
   },
   "file_extension": ".py",
   "mimetype": "text/x-python",
   "name": "python",
   "nbconvert_exporter": "python",
   "pygments_lexer": "ipython3",
   "version": "3.7.3"
  }
 },
 "nbformat": 4,
 "nbformat_minor": 2
}
